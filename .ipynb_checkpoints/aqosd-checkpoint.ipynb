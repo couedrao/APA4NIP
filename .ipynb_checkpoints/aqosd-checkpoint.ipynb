{
 "cells": [
  {
   "cell_type": "code",
   "execution_count": null,
   "metadata": {},
   "outputs": [],
   "source": [
    "%load_ext watermark\n",
    "%watermark -a 'Ouedraogo Clovis' -u -d -v -m"
   ]
  },
  {
   "cell_type": "markdown",
   "metadata": {},
   "source": [
    "## Imports"
   ]
  },
  {
   "cell_type": "code",
   "execution_count": null,
   "metadata": {},
   "outputs": [],
   "source": [
    "import time\n",
    "import pandas as pd\n",
    "import numpy as np\n",
    "from sklearn.model_selection import GridSearchCV, cross_validate\n",
    "from sklearn.preprocessing import MinMaxScaler,StandardScaler\n",
    "from joblib import dump\n",
    "from collections import Counter\n",
    "from skmultilearn.model_selection.measures import get_combination_wise_output_matrix\n",
    "import pandas as pd\n",
    "import numpy as np\n",
    "from scipy import stats\n",
    "from sklearn.metrics import *\n",
    "\n",
    "from aqosd_experiments.config import *\n",
    "from aqosd_experiments.data import *\n",
    "from aqosd_experiments.utils import *\n",
    "from aqosd_experiments.plot import *\n",
    "from aqosd_experiments.scorers import *\n",
    "from osms import OverheadSensitiveMetricSelection\n",
    "\n",
    "warnings.filterwarnings(\"ignore\", category=np.VisibleDeprecationWarning) \n",
    "warnings.filterwarnings(\"ignore\", category=FutureWarning) "
   ]
  },
  {
   "cell_type": "markdown",
   "metadata": {},
   "source": [
    "## Load Config"
   ]
  },
  {
   "cell_type": "code",
   "execution_count": null,
   "metadata": {},
   "outputs": [],
   "source": [
    "save=True"
   ]
  },
  {
   "cell_type": "markdown",
   "metadata": {},
   "source": [
    "## Load and prepare data"
   ]
  },
  {
   "cell_type": "raw",
   "metadata": {
    "pycharm": {
     "name": "#%%\n"
    }
   },
   "source": [
    "fig = plt_long_stats(RAW_DATASET_PATH,  HOST_LIST)\n",
    "if save:\n",
    "    fig.savefig(FIG_PATH + \"Sample.pdf\", bbox_inches='tight')"
   ]
  },
  {
   "cell_type": "code",
   "execution_count": null,
   "metadata": {
    "scrolled": false
   },
   "outputs": [],
   "source": [
    "metrics, bottlenecks = import_and_prepare_data(RAW_DATASET_PATH,  HOST_LIST)\n",
    "print('Shape of metrics : ',metrics.shape,'\\t','Shape of bottlenecks : ',bottlenecks.shape)\n",
    "print('Label cardinality = %.5f \\t Label density = %.5f' % (bottlenecks.sum(axis=1).mean(),bottlenecks.mean(axis=1).mean()))"
   ]
  },
  {
   "cell_type": "code",
   "execution_count": null,
   "metadata": {},
   "outputs": [],
   "source": [
    "metric_names, bottleneck_names = list(metrics.columns), list(bottlenecks.columns)\n",
    "print(metric_names)\n",
    "print(100*'-')\n",
    "print(bottleneck_names)"
   ]
  },
  {
   "cell_type": "code",
   "execution_count": null,
   "metadata": {},
   "outputs": [],
   "source": [
    "metrics = scale_metrics(metrics, StandardScaler()) #MinMaxScaler\n",
    "train_indexes, test_indexes = next(CV_2.split(metrics, bottlenecks))"
   ]
  },
  {
   "cell_type": "code",
   "execution_count": null,
   "metadata": {},
   "outputs": [],
   "source": [
    "X_train, y_train = metrics.iloc[train_indexes, :], bottlenecks.iloc[train_indexes, :]\n",
    "X_test, y_test = metrics.iloc[test_indexes, :], bottlenecks.iloc[test_indexes, :]\n",
    "X_train.shape, y_train.shape, X_test.shape, y_test.shape"
   ]
  },
  {
   "cell_type": "code",
   "execution_count": null,
   "metadata": {},
   "outputs": [],
   "source": [
    "X_train, y_train, X_test, y_test = X_train.values, y_train.values,  X_test.values, y_test.values\n",
    "X_train.shape, y_train.shape, X_test.shape, y_test.shape"
   ]
  },
  {
   "cell_type": "code",
   "execution_count": null,
   "metadata": {},
   "outputs": [],
   "source": [
    "pd.DataFrame({\n",
    "    'train': Counter(str(c) for row in get_combination_wise_output_matrix(y_train, order=2) for c in row),\n",
    "    'test' : Counter(str(c) for row in get_combination_wise_output_matrix(y_test, order=2) for c in row)\n",
    "}).T.fillna(0.0)"
   ]
  },
  {
   "cell_type": "code",
   "execution_count": null,
   "metadata": {},
   "outputs": [],
   "source": [
    "selection=\"LP [Neural Net]\""
   ]
  },
  {
   "cell_type": "code",
   "execution_count": null,
   "metadata": {},
   "outputs": [],
   "source": [
    "n_metric_SRV = sum(1 for s in metric_names if 'SRV.' in s)\n",
    "n_metric_GW1 = sum(1 for s in metric_names if 'GW1.' in s)\n",
    "n_metric_GW11 = sum(1 for s in metric_names if 'GW11.' in s)\n",
    "n_metric_GW111 = sum(1 for s in metric_names if 'GW111.' in s)\n",
    "print(\"n_metric : { SRV : \",n_metric_SRV,\", GW1 : \",n_metric_GW1, \", GW11 : \",n_metric_GW11,\n",
    "      \", GW111 : \",n_metric_GW111,\"}\")\n",
    "SRV_costs= 0.5 * np.ones(n_metric_SRV)\n",
    "GW1_costs= 1.0 * np.ones(n_metric_GW1)\n",
    "GW11_costs= 1.5 * np.ones(n_metric_GW11)\n",
    "GW111_costs= 2.0 * np.ones(n_metric_GW111)          \n",
    "overheads=np.concatenate([SRV_costs, GW1_costs, GW11_costs, GW111_costs])"
   ]
  },
  {
   "cell_type": "code",
   "execution_count": null,
   "metadata": {
    "scrolled": true
   },
   "outputs": [],
   "source": [
    "scn_name='scn_1'\n",
    "overhead_budget=np.sum(overheads)\n",
    "bbest_clf=CLASSIFIERS[selection]\n",
    "osdms = OverheadSensitiveMetricSelection(best_clf, overheads=overheads, overhead_budget=overhead_budget, \n",
    "                                         scoring=SCORING, verbose=2, test_indexes=test_indexes, n_jobs=-1)\n",
    "start=time.time()\n",
    "osdms.fit(metrics.values, bottlenecks.values, user_metric_names=metric_names)\n",
    "print(5*'-'+'>','time:',(time.time()-start)//60+1,'minutes')\n",
    "if save:\n",
    "    dump(osdms, MODELS_PATH + scn_name + 'OSDMS.joblib')\n",
    "print('best combination (Score: %.5f, numb : %d):\\n%s' % (osdms.k_score_,len(osdms.k_metric_names_),\n",
    "                                                           osdms.k_metric_names_))\n",
    "fig, df = plot_osdm(osdms)\n",
    "if save:\n",
    "    df.to_csv(MODELS_PATH + scn_name + '_metric_selection.csv', index=True)\n",
    "    fig.savefig(FIG_PATH + scn_name + '_metric_selection.pdf', bbox_inches='tight')"
   ]
  }
 ],
 "metadata": {
  "@webio": {
   "lastCommId": null,
   "lastKernelId": null
  },
  "kernelspec": {
   "display_name": "Python 3",
   "language": "python",
   "name": "python3"
  },
  "language_info": {
   "codemirror_mode": {
    "name": "ipython",
    "version": 3
   },
   "file_extension": ".py",
   "mimetype": "text/x-python",
   "name": "python",
   "nbconvert_exporter": "python",
   "pygments_lexer": "ipython3",
   "version": "3.8.5"
  }
 },
 "nbformat": 4,
 "nbformat_minor": 4
}

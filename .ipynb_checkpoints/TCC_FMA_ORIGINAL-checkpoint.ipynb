{
 "cells": [
  {
   "cell_type": "code",
   "execution_count": 1,
   "metadata": {
    "colab": {
     "base_uri": "https://localhost:8080/",
     "height": 50
    },
    "id": "f2pDpPNLFt6b",
    "outputId": "a378003d-4ea3-40d9-c71f-c166244317da"
   },
   "outputs": [],
   "source": [
    "import re\n",
    "import matplotlib.pyplot as plt\n",
    "import numpy as np\n",
    "import pandas as pd\n",
    "import time\n",
    "from collections import Counter\n",
    "from sklearn import tree\n",
    "from sklearn.preprocessing import StandardScaler\n",
    "from skmultilearn.model_selection import iterative_train_test_split\n",
    "from skmultilearn.model_selection.measures import get_combination_wise_output_matrix\n",
    "from skmultilearn.model_selection import IterativeStratification\n",
    "import warnings\n",
    "warnings.filterwarnings(\"ignore\", category=np.VisibleDeprecationWarning) \n",
    "warnings.filterwarnings(\"ignore\", category=FutureWarning) \n",
    "from aqosd_experiments.config import *\n",
    "from aqosd_experiments.plot import *\n",
    "from aqosd_experiments.data import *\n",
    "from aqosd_experiments.utils import *\n",
    "from skmultilearn.dataset import load_dataset"
   ]
  },
  {
   "cell_type": "code",
   "execution_count": 2,
   "metadata": {},
   "outputs": [
    {
     "ename": "AttributeError",
     "evalue": "'DataFrameGroupBy' object has no attribute 'index'",
     "output_type": "error",
     "traceback": [
      "\u001b[1;31m---------------------------------------------------------------------------\u001b[0m",
      "\u001b[1;31mAttributeError\u001b[0m                            Traceback (most recent call last)",
      "\u001b[1;32m<ipython-input-2-5e2f57a522b4>\u001b[0m in \u001b[0;36m<module>\u001b[1;34m\u001b[0m\n\u001b[1;32m----> 1\u001b[1;33m \u001b[0mfeatures_df\u001b[0m\u001b[1;33m,\u001b[0m \u001b[0mlabels_df\u001b[0m \u001b[1;33m=\u001b[0m \u001b[0mimport_and_prepare_data_beta\u001b[0m\u001b[1;33m(\u001b[0m\u001b[0mRAW_DATASET_PATH\u001b[0m\u001b[1;33m,\u001b[0m \u001b[0mHOST_LIST\u001b[0m\u001b[1;33m)\u001b[0m\u001b[1;33m\u001b[0m\u001b[1;33m\u001b[0m\u001b[0m\n\u001b[0m\u001b[0;32m      2\u001b[0m \u001b[0mfeatures_df\u001b[0m\u001b[1;33m.\u001b[0m\u001b[0mreset_index\u001b[0m\u001b[1;33m(\u001b[0m\u001b[0mdrop\u001b[0m\u001b[1;33m=\u001b[0m\u001b[1;32mTrue\u001b[0m\u001b[1;33m,\u001b[0m\u001b[0minplace\u001b[0m\u001b[1;33m=\u001b[0m\u001b[1;32mTrue\u001b[0m\u001b[1;33m)\u001b[0m\u001b[1;33m\u001b[0m\u001b[1;33m\u001b[0m\u001b[0m\n\u001b[0;32m      3\u001b[0m \u001b[0mlabels_df\u001b[0m\u001b[1;33m.\u001b[0m\u001b[0mreset_index\u001b[0m\u001b[1;33m(\u001b[0m\u001b[0mdrop\u001b[0m\u001b[1;33m=\u001b[0m\u001b[1;32mTrue\u001b[0m\u001b[1;33m,\u001b[0m\u001b[0minplace\u001b[0m\u001b[1;33m=\u001b[0m\u001b[1;32mTrue\u001b[0m\u001b[1;33m)\u001b[0m\u001b[1;33m\u001b[0m\u001b[1;33m\u001b[0m\u001b[0m\n\u001b[0;32m      4\u001b[0m \u001b[0mprint\u001b[0m\u001b[1;33m(\u001b[0m\u001b[0mfeatures_df\u001b[0m\u001b[1;33m.\u001b[0m\u001b[0mshape\u001b[0m\u001b[1;33m,\u001b[0m \u001b[0mlabels_df\u001b[0m\u001b[1;33m.\u001b[0m\u001b[0mshape\u001b[0m\u001b[1;33m)\u001b[0m\u001b[1;33m\u001b[0m\u001b[1;33m\u001b[0m\u001b[0m\n",
      "\u001b[1;32m~\\PycharmProjects\\AQoSD_IoT\\aqosd_experiments\\data.py\u001b[0m in \u001b[0;36mimport_and_prepare_data_beta\u001b[1;34m(raw_dataset_path, host_list, ct)\u001b[0m\n\u001b[0;32m     50\u001b[0m     \u001b[1;31m# df['node'] = [[n for strt, end, n, b in packed if strt <= el <= end] for el in df.index]\u001b[0m\u001b[1;33m\u001b[0m\u001b[1;33m\u001b[0m\u001b[1;33m\u001b[0m\u001b[0m\n\u001b[0;32m     51\u001b[0m     \u001b[1;31m# df['bottleneck'] = [[b for strt, end, n, b in packed if strt <= el <= end] for el in df.index]\u001b[0m\u001b[1;33m\u001b[0m\u001b[1;33m\u001b[0m\u001b[1;33m\u001b[0m\u001b[0m\n\u001b[1;32m---> 52\u001b[1;33m     \u001b[0mdf\u001b[0m\u001b[1;33m[\u001b[0m\u001b[1;34m'node.bottleneck'\u001b[0m\u001b[1;33m]\u001b[0m \u001b[1;33m=\u001b[0m \u001b[1;33m[\u001b[0m\u001b[1;33m[\u001b[0m\u001b[0mn\u001b[0m \u001b[1;33m+\u001b[0m \u001b[1;34m'.'\u001b[0m \u001b[1;33m+\u001b[0m \u001b[0mb\u001b[0m \u001b[1;32mfor\u001b[0m \u001b[0mstrt\u001b[0m\u001b[1;33m,\u001b[0m \u001b[0mend\u001b[0m\u001b[1;33m,\u001b[0m \u001b[0mn\u001b[0m\u001b[1;33m,\u001b[0m \u001b[0mb\u001b[0m \u001b[1;32min\u001b[0m \u001b[0mpacked\u001b[0m \u001b[1;32mif\u001b[0m \u001b[0mstrt\u001b[0m \u001b[1;33m<=\u001b[0m \u001b[0mel\u001b[0m \u001b[1;33m<=\u001b[0m \u001b[0mend\u001b[0m\u001b[1;33m]\u001b[0m \u001b[1;32mfor\u001b[0m \u001b[0mel\u001b[0m \u001b[1;32min\u001b[0m \u001b[0mdf\u001b[0m\u001b[1;33m.\u001b[0m\u001b[0mindex\u001b[0m\u001b[1;33m]\u001b[0m\u001b[1;33m\u001b[0m\u001b[1;33m\u001b[0m\u001b[0m\n\u001b[0m\u001b[0;32m     53\u001b[0m     \u001b[1;31m# df = df[~df.bottleneck_node.str.len().eq(0)]\u001b[0m\u001b[1;33m\u001b[0m\u001b[1;33m\u001b[0m\u001b[1;33m\u001b[0m\u001b[0m\n\u001b[0;32m     54\u001b[0m     \u001b[1;31m# df.reset_index(drop=True, inplace=True)\u001b[0m\u001b[1;33m\u001b[0m\u001b[1;33m\u001b[0m\u001b[1;33m\u001b[0m\u001b[0m\n",
      "\u001b[1;32m~\\AppData\\Roaming\\Python\\Python38\\site-packages\\pandas\\core\\groupby\\groupby.py\u001b[0m in \u001b[0;36m__getattr__\u001b[1;34m(self, attr)\u001b[0m\n\u001b[0;32m    701\u001b[0m             \u001b[1;32mreturn\u001b[0m \u001b[0mself\u001b[0m\u001b[1;33m[\u001b[0m\u001b[0mattr\u001b[0m\u001b[1;33m]\u001b[0m\u001b[1;33m\u001b[0m\u001b[1;33m\u001b[0m\u001b[0m\n\u001b[0;32m    702\u001b[0m \u001b[1;33m\u001b[0m\u001b[0m\n\u001b[1;32m--> 703\u001b[1;33m         raise AttributeError(\n\u001b[0m\u001b[0;32m    704\u001b[0m             \u001b[1;34mf\"'{type(self).__name__}' object has no attribute '{attr}'\"\u001b[0m\u001b[1;33m\u001b[0m\u001b[1;33m\u001b[0m\u001b[0m\n\u001b[0;32m    705\u001b[0m         )\n",
      "\u001b[1;31mAttributeError\u001b[0m: 'DataFrameGroupBy' object has no attribute 'index'"
     ]
    }
   ],
   "source": [
    "features_df, labels_df = import_and_prepare_data_beta(RAW_DATASET_PATH, HOST_LIST)\n",
    "features_df.reset_index(drop=True,inplace=True)\n",
    "labels_df.reset_index(drop=True,inplace=True)\n",
    "print(features_df.shape, labels_df.shape)"
   ]
  },
  {
   "cell_type": "code",
   "execution_count": null,
   "metadata": {},
   "outputs": [],
   "source": [
    "labels_df"
   ]
  },
  {
   "cell_type": "code",
   "execution_count": null,
   "metadata": {},
   "outputs": [],
   "source": [
    "len(features_df.columns)"
   ]
  },
  {
   "cell_type": "code",
   "execution_count": null,
   "metadata": {
    "colab": {
     "base_uri": "https://localhost:8080/",
     "height": 54
    },
    "id": "VxTFnDJJqdFr",
    "outputId": "bb4810ef-47ec-4c37-c353-8814ca7434f6",
    "scrolled": false
   },
   "outputs": [],
   "source": [
    "features_df.columns = ['feature'+str(i+1) for i in range(len(list(features_df.columns)))]\n",
    "df = pd.concat([features_df, labels_df], axis=1)\n",
    "features, labels = list(features_df.columns),list(labels_df.columns)\n",
    "df, labels = dropGenresWithLessThan(5, df, labels)\n",
    "labelless_rows_to_drop = [index for index, row in df.iterrows() if(not row[labels].values.any())]\n",
    "print(len(labelless_rows_to_drop))\n",
    "df = df.drop(labelless_rows_to_drop)\n",
    "myfunc_vec = np.vectorize(int)\n",
    "y = myfunc_vec(df[labels].values)\n",
    "y = csr_matrix(y)\n",
    "X = df[features]\n",
    "v = validatorB()\n",
    "print(df.shape, y.shape)"
   ]
  },
  {
   "cell_type": "code",
   "execution_count": null,
   "metadata": {
    "scrolled": false
   },
   "outputs": [],
   "source": [
    "df[features]"
   ]
  },
  {
   "cell_type": "code",
   "execution_count": null,
   "metadata": {
    "colab": {
     "base_uri": "https://localhost:8080/",
     "height": 67
    },
    "id": "imFP8KfDsIkF",
    "outputId": "0090b491-45c7-4ae0-c08c-7304448d4fa7"
   },
   "outputs": [],
   "source": [
    "print(\"Bottlenecks number:\", len(labels))\n",
    "print(\"Cardinality:\", cardinality(df))\n",
    "print(\"Density:\", density(df))\n",
    "print(\"MeanIR:\", v.meanIR(y,df))"
   ]
  },
  {
   "cell_type": "code",
   "execution_count": null,
   "metadata": {},
   "outputs": [],
   "source": [
    "test_size =.5\n",
    "X = scale_metrics(X, StandardScaler())\n",
    "X= X.values\n",
    "stratifier = IterativeStratification(n_splits=2, order=2, sample_distribution_per_fold=[test_size, 1.0-test_size])\n",
    "train_indexes, test_indexes = next(stratifier.split(X, y))\n",
    "X_train, y_train = X[train_indexes, :], y[train_indexes, :]\n",
    "X_test, y_test = X[test_indexes, :], y[test_indexes, :]"
   ]
  },
  {
   "cell_type": "code",
   "execution_count": null,
   "metadata": {},
   "outputs": [],
   "source": [
    "pd.DataFrame({\n",
    "    'train': Counter(str(c) for row in get_combination_wise_output_matrix(y_train.A, order=2) for c in row),\n",
    "    'test' : Counter(str(c) for row in get_combination_wise_output_matrix(y_test.A, order=2) for c in row)\n",
    "}).T.fillna(0.0)"
   ]
  },
  {
   "cell_type": "code",
   "execution_count": null,
   "metadata": {},
   "outputs": [],
   "source": [
    "X_train.shape"
   ]
  },
  {
   "cell_type": "raw",
   "metadata": {
    "id": "Jz2hskKUPq3f"
   },
   "source": [
    "results = {}\n",
    "def train_and_plot(title, X_train, y_train):\n",
    "    for clf_name, clf in CLASSIFIERS.items():\n",
    "        print(100*'-')\n",
    "        print('#',clf_name.ljust(20), end=' ')\n",
    "        start=time.time()\n",
    "        clf.fit(X_train, y_train)\n",
    "        y_pred = clf.predict(X_test)\n",
    "        if not hasattr(y_pred, 'toarray'):\n",
    "            y_pred = sparse.csr_matrix(y_pred)\n",
    "        results[clf_name] = y_pred\n",
    "        print('>','time:',(time.time()-start)//60+1,'minutes')\n",
    "        print_metrics(y_test, y_pred)"
   ]
  },
  {
   "cell_type": "code",
   "execution_count": null,
   "metadata": {},
   "outputs": [],
   "source": [
    "def train_and_plot(title, X_train, y_train):\n",
    "    for clf_name, clf in CLASSIFIERS.items():\n",
    "        print(100*'-')\n",
    "        print('#',clf_name.ljust(20), end=' ')\n",
    "        start=time.time()\n",
    "        clf.fit(X_train, y_train)\n",
    "        y_pred = clf.predict(X_test)\n",
    "        if not hasattr(y_pred, 'toarray'):\n",
    "            y_pred = sparse.csr_matrix(y_pred)\n",
    "        print('>','time:',(time.time()-start)//60+1,'minutes')\n",
    "        print_metrics(y_test, y_pred)"
   ]
  },
  {
   "cell_type": "code",
   "execution_count": null,
   "metadata": {},
   "outputs": [],
   "source": [
    "train_and_plot('No Samplig', X_train, y_train.toarray())"
   ]
  },
  {
   "cell_type": "raw",
   "metadata": {},
   "source": [
    "compute_classification_score(results, y_test, many=True)"
   ]
  },
  {
   "cell_type": "raw",
   "metadata": {},
   "source": [
    "compute_multilabel_ranking_metrics(results, y_test)"
   ]
  },
  {
   "cell_type": "raw",
   "metadata": {},
   "source": [
    "#compute_measure_per_label(results, y_test, labels)"
   ]
  },
  {
   "cell_type": "raw",
   "metadata": {},
   "source": [
    "perf_viz(results, y_test)"
   ]
  },
  {
   "cell_type": "raw",
   "metadata": {},
   "source": [
    "selection= 'Decision Tree'\n",
    "clf=CLASSIFIERS[selection]\n",
    "start=time.time()\n",
    "clf.fit(X_train, y_train)\n",
    "print('>','time:',(time.time()-start)//60+1,'minutes')\n",
    "y_pred = clf.predict(X_test)\n",
    "#print_metrics(y_test, y_pred)"
   ]
  },
  {
   "cell_type": "raw",
   "metadata": {
    "scrolled": false
   },
   "source": [
    "_ =plot_multi_confusion_matrix(y_pred,y_test, labels, selection)"
   ]
  },
  {
   "cell_type": "raw",
   "metadata": {},
   "source": [
    "y_pred_proba = clf.predict_proba(X_test)\n",
    "y_score=np.array(y_pred_proba).T[1]\n",
    "plt_roc_auc(y_score, y_test ,labels)"
   ]
  },
  {
   "cell_type": "raw",
   "metadata": {},
   "source": [
    "print(X_test.shape)\n",
    "# test prediction\n",
    "def test_predic(pick, clf):\n",
    "    test_data=X_test[:pick]\n",
    "    true_data = y_test[pick:pick+1,:]\n",
    "    \n",
    "    print('xtest',test_data.shape)   \n",
    "    print('ytest',true_data.shape)\n",
    "    prediction= clf.predict(test_data)[0]\n",
    "    print('pred',prediction.shape)\n",
    "    true_data_class = [labels[i] for i in range(len(labels)) if true_data[i]>0]  \n",
    "    prediction_class = [labels[i] for i in range(len(labels)) if prediction[i]>0]\n",
    "    print('true class =', true_data_class, '| num. of labels =',len(true_data_class))\n",
    "    print('pred class=', prediction_class, '| num. of labels =',len(prediction_class))\n",
    "pick=50\n",
    "test_predic(pick, clf)"
   ]
  },
  {
   "cell_type": "raw",
   "metadata": {},
   "source": [
    "fig = plt.figure(figsize=(25,20))\n",
    "_ = tree.plot_tree(clf, feature_names=features_df.columns, class_names=labels_df.columns, filled=True)"
   ]
  },
  {
   "cell_type": "raw",
   "metadata": {
    "id": "AFM1KqnbaSxH"
   },
   "source": [
    "mlros = MLROS()\n",
    "X_train_MLROS, y_train_MLROS = mlros.fit_resample(df,X_train, y_train, 4.76)\n",
    "meanIR_MLROS = v.meanIR(y_train_MLROS, df)\n",
    "print(\"MeanIR resampled:\", meanIR_MLROS)\n",
    "print(f\"Original Size:{len(X_train)}\")\n",
    "print(f\"Resampled Size:{len(X_train_MLROS)}\")"
   ]
  },
  {
   "cell_type": "raw",
   "metadata": {},
   "source": [
    "pd.DataFrame({\n",
    "    'train': Counter(str(c) for row in get_combination_wise_output_matrix(y_train.A, order=2) for c in row),\n",
    "    'train r' : Counter(str(c) for row in get_combination_wise_output_matrix(y_train_MLROS.A, order=2) for c in row)\n",
    "}).T.fillna(0.0)"
   ]
  },
  {
   "cell_type": "raw",
   "metadata": {},
   "source": [
    "train_and_plot('MLROS', X_train_MLROS, y_train_MLROS.toarray())"
   ]
  },
  {
   "cell_type": "raw",
   "metadata": {
    "id": "93ryZxB_aUWq"
   },
   "source": [
    "mlrus = MLRUS()\n",
    "X_train_MLRUS, y_train_MLRUS = mlrus.fit_resample(df,X_train, y_train, 5.26)\n",
    "meanIR_MLRUS = v.meanIR(y_train_MLRUS, df)\n",
    "print(\"MeanIR resampled:\", meanIR_MLRUS)\n",
    "print(f\"Original Size:{len(X_train)}\")\n",
    "print(f\"Resampled Size:{len(X_train_MLRUS)}\")"
   ]
  },
  {
   "cell_type": "raw",
   "metadata": {},
   "source": [
    "pd.DataFrame({\n",
    "    'train': Counter(str(c) for row in get_combination_wise_output_matrix(y_train.A, order=2) for c in row),\n",
    "    'train r' : Counter(str(c) for row in get_combination_wise_output_matrix(y_train_MLRUS.A, order=2) for c in row)\n",
    "}).T.fillna(0.0)"
   ]
  },
  {
   "cell_type": "raw",
   "metadata": {
    "id": "vjGpmCHtRW4P"
   },
   "source": [
    "train_and_plot('MLRUS', X_train_MLRUS, y_train_MLRUS.toarray())"
   ]
  },
  {
   "cell_type": "raw",
   "metadata": {
    "id": "byb85QZkbGan"
   },
   "source": [
    "mlsmote = MLSMOTE(3)\n",
    "X_train_MLSMOTE, y_train_MLSMOTE = mlsmote.fit_resample(df,X_train, y_train, 3)\n",
    "meanIR_MLSMOTE = v.meanIR(y_train_MLSMOTE, df)\n",
    "print(\"MeanIR resampled:\", meanIR_MLSMOTE)\n",
    "print(f\"Original Size:{len(X_train)}\")\n",
    "print(f\"Resampled Size:{len(X_train_MLSMOTE)}\")"
   ]
  },
  {
   "cell_type": "raw",
   "metadata": {},
   "source": [
    "pd.DataFrame({\n",
    "    'train': Counter(str(c) for row in get_combination_wise_output_matrix(y_train.A, order=2) for c in row),\n",
    "    'train r' : Counter(str(c) for row in get_combination_wise_output_matrix(y_train_MLSMOTE.A, order=2) for c in row)\n",
    "}).T.fillna(0.0)"
   ]
  },
  {
   "cell_type": "raw",
   "metadata": {},
   "source": [
    "train_and_plot('MLSMOTE', X_train_MLSMOTE, y_train_MLSMOTE.toarray())"
   ]
  },
  {
   "cell_type": "code",
   "execution_count": null,
   "metadata": {},
   "outputs": [],
   "source": [
    "from skmultilearn.problem_transform import ClassifierChain, LabelPowerset\n",
    "from sklearn.model_selection import GridSearchCV\n",
    "from sklearn.ensemble import RandomForestClassifier\n",
    "from skmultilearn.cluster import NetworkXLabelGraphClusterer\n",
    "from skmultilearn.cluster import LabelCooccurrenceGraphBuilder\n",
    "from skmultilearn.ensemble import LabelSpacePartitioningClassifier"
   ]
  },
  {
   "cell_type": "raw",
   "metadata": {},
   "source": [
    "parameters = {'classifier': [LabelPowerset(), ClassifierChain()],\n",
    "              'classifier__classifier': [RandomForestClassifier()],\n",
    "              'classifier__classifier__n_estimators': [200],\n",
    "              'clusterer' : [NetworkXLabelGraphClusterer(LabelCooccurrenceGraphBuilder(\n",
    "                                weighted=True, include_self_edges=False), 'louvain'),\n",
    "                            NetworkXLabelGraphClusterer(LabelCooccurrenceGraphBuilder(\n",
    "                                weighted=True, include_self_edges=False), 'lpa')]}\n",
    "\n",
    "clf = GridSearchCV(LabelSpacePartitioningClassifier(), parameters, scoring = 'accuracy', n_jobs=3)\n",
    "clf.fit(X_train, y_train)\n",
    "print (clf.best_params_, clf.best_score_)"
   ]
  }
 ],
 "metadata": {
  "@webio": {
   "lastCommId": null,
   "lastKernelId": null
  },
  "colab": {
   "authorship_tag": "ABX9TyP06EYYlQhmvbRK8Le4tMeI",
   "collapsed_sections": [
    "qLiaFkKoMIkH"
   ],
   "include_colab_link": true,
   "name": "TCC-FMA-ORIGINAL.ipynb",
   "provenance": []
  },
  "kernelspec": {
   "display_name": "Python 3",
   "language": "python",
   "name": "python3"
  },
  "language_info": {
   "codemirror_mode": {
    "name": "ipython",
    "version": 3
   },
   "file_extension": ".py",
   "mimetype": "text/x-python",
   "name": "python",
   "nbconvert_exporter": "python",
   "pygments_lexer": "ipython3",
   "version": "3.8.5"
  }
 },
 "nbformat": 4,
 "nbformat_minor": 1
}

{
 "cells": [
  {
   "cell_type": "code",
   "execution_count": 1,
   "metadata": {},
   "outputs": [],
   "source": [
    "import pandas as pd\n",
    "from sklearn.model_selection import GridSearchCV, cross_validate\n",
    "from sklearn.preprocessing import MinMaxScaler\n",
    "\n",
    "from aqosd_experiments.config import CLASSIFIERS, PARAM_GRIDS, RAW_DATASET_PATH, HOST_LIST, CV, MODELS_PATH\n",
    "from aqosd_experiments.data import import_and_prepare_data, scale_X, over_sampling\n",
    "from aqosd_experiments.plot import plot_number_of_instance, plot_osdm\n",
    "from aqosd_experiments.scorers import process_score, SCORING\n",
    "from osms import OverheadSensitiveMetricSelection"
   ]
  },
  {
   "cell_type": "code",
   "execution_count": 2,
   "metadata": {},
   "outputs": [],
   "source": [
    "raw_dataset_path, host_list, models_path= RAW_DATASET_PATH,  HOST_LIST, MODELS_PATH"
   ]
  },
  {
   "cell_type": "code",
   "execution_count": 3,
   "metadata": {},
   "outputs": [],
   "source": [
    "classifiers,param_grids = CLASSIFIERS, PARAM_GRIDS\n",
    "scoring, cv = SCORING, CV"
   ]
  },
  {
   "cell_type": "code",
   "execution_count": 4,
   "metadata": {},
   "outputs": [
    {
     "name": "stdout",
     "output_type": "stream",
     "text": [
      "Shape of X :  (4112, 64) \t\t Shape of y :  (4112, 32)\n"
     ]
    }
   ],
   "source": [
    "X, y = import_and_prepare_data(raw_dataset_path, host_list)\n",
    "print('Shape of X : ',X.shape,2*'\\t','Shape of y : ',y.shape)"
   ]
  },
  {
   "cell_type": "code",
   "execution_count": 5,
   "metadata": {},
   "outputs": [
    {
     "name": "stdout",
     "output_type": "stream",
     "text": [
      "MLSMOTE : Synthetic data have been added to the train set\n",
      "Resampled\n",
      "Shape of X :  (6315, 63) \t\t Shape of y :  (6315, 32)\n"
     ]
    }
   ],
   "source": [
    "X=scale_X(X, MinMaxScaler()) \n",
    "X, y = over_sampling(X, y, int(X.shape[0]*0.1))\n",
    "print('Shape of X : ',X.shape,2*'\\t','Shape of y : ',y.shape)"
   ]
  },
  {
   "cell_type": "code",
   "execution_count": 6,
   "metadata": {},
   "outputs": [
    {
     "name": "stdout",
     "output_type": "stream",
     "text": [
      "['/: Space utilization_SRV', 'Available memory in %_SRV', 'CPU idle time_SRV', 'CPU iowait time_SRV', 'CPU nice time_SRV', 'CPU softirq time_SRV', 'CPU system time_SRV', 'CPU user time_SRV', 'CPU utilization_SRV', 'Context switches per second_SRV', 'Free swap space in %_SRV', 'Interrupts per second_SRV', 'Load average (15m avg)_SRV', 'Load average (1m avg)_SRV', 'Load average (5m avg)_SRV', 'Memory utilization_SRV', '/: Space utilization_GW1', 'Available memory in %_GW1', 'CPU idle time_GW1', 'CPU iowait time_GW1', 'CPU nice time_GW1', 'CPU softirq time_GW1', 'CPU system time_GW1', 'CPU user time_GW1', 'CPU utilization_GW1', 'Context switches per second_GW1', 'Free swap space in %_GW1', 'Interrupts per second_GW1', 'Load average (15m avg)_GW1', 'Load average (1m avg)_GW1', 'Load average (5m avg)_GW1', 'Memory utilization_GW1', '/: Space utilization_GW11', 'Available memory in %_GW11', 'CPU idle time_GW11', 'CPU iowait time_GW11', 'CPU nice time_GW11', 'CPU softirq time_GW11', 'CPU system time_GW11', 'CPU user time_GW11', 'CPU utilization_GW11', 'Context switches per second_GW11', 'Free swap space in %_GW11', 'Interrupts per second_GW11', 'Load average (15m avg)_GW11', 'Load average (1m avg)_GW11', 'Load average (5m avg)_GW11', 'Memory utilization_GW11', '/: Space utilization_GW111', 'Available memory in %_GW111', 'CPU idle time_GW111', 'CPU iowait time_GW111', 'CPU nice time_GW111', 'CPU softirq time_GW111', 'CPU system time_GW111', 'CPU user time_GW111', 'CPU utilization_GW111', 'Context switches per second_GW111', 'Free swap space in %_GW111', 'Interrupts per second_GW111', 'Load average (15m avg)_GW111', 'Load average (1m avg)_GW111', 'Load average (5m avg)_GW111']\n",
      "----------------------------------------------------------------------------------------------------\n",
      "['cpu_GW1', 'cpu_GW11', 'cpu_GW111', 'cpu_SRV', 'diskio_GW1', 'diskio_GW11', 'diskio_GW111', 'diskio_SRV', 'diskspace_GW1', 'diskspace_GW11', 'diskspace_GW111', 'diskspace_SRV', 'memory_GW1', 'memory_GW11', 'memory_GW111', 'memory_SRV', 'network_delay_GW1', 'network_delay_GW11', 'network_delay_GW111', 'network_delay_SRV', 'network_packet_corrupt_GW1', 'network_packet_corrupt_GW11', 'network_packet_corrupt_GW111', 'network_packet_corrupt_SRV', 'network_packet_duplicate_GW1', 'network_packet_duplicate_GW11', 'network_packet_duplicate_GW111', 'network_packet_duplicate_SRV', 'network_packet_loss_GW1', 'network_packet_loss_GW11', 'network_packet_loss_GW111', 'network_packet_loss_SRV']\n"
     ]
    }
   ],
   "source": [
    "metrics, bottlenecks = list(X.columns), list(y.columns)\n",
    "print(metrics)\n",
    "print(100*'-')\n",
    "print(bottlenecks)"
   ]
  },
  {
   "cell_type": "raw",
   "metadata": {},
   "source": [
    "X.head(2)"
   ]
  },
  {
   "cell_type": "raw",
   "metadata": {},
   "source": [
    "y.head(5)"
   ]
  },
  {
   "cell_type": "raw",
   "metadata": {},
   "source": [
    "fig = plot_number_of_instance(y, raw_dataset_path, host_list)\n",
    "#fig.savefig(fig_path + \"Number_of_instance_with_a_class_label.pdf\", bbox_inches='tight')"
   ]
  },
  {
   "cell_type": "raw",
   "metadata": {
    "scrolled": false
   },
   "source": [
    "results=pd.DataFrame()\n",
    "for classifier_name, classifier in classifiers.items():\n",
    "    print(50*'-')\n",
    "    print('##', classifier_name)\n",
    "    print(50*'-')\n",
    "    clf = GridSearchCV(classifier, param_grid=param_grids[classifier_name], cv=cv, scoring=scoring,refit='acc',\n",
    "                       verbose=10, n_jobs=-1)\n",
    "    clf.fit(X.values, y.values)    \n",
    "    print('Best params : ',clf.best_params_)\n",
    "    scores = cross_validate(clf.best_estimator_, X.values, y.values, cv=cv, scoring=scoring,\n",
    "                            return_train_score=True, verbose=0, n_jobs=-1)\n",
    "    results = pd.concat([results,  process_score(classifier_name, scores, scoring)])"
   ]
  },
  {
   "cell_type": "raw",
   "metadata": {},
   "source": [
    "results.T"
   ]
  },
  {
   "cell_type": "code",
   "execution_count": 7,
   "metadata": {},
   "outputs": [],
   "source": [
    "maximun = X.shape[1]\n",
    "best_clf=classifiers[\"Random Forest\"]"
   ]
  },
  {
   "cell_type": "code",
   "execution_count": 8,
   "metadata": {
    "scrolled": false
   },
   "outputs": [
    {
     "name": "stderr",
     "output_type": "stream",
     "text": [
      "[Parallel(n_jobs=-1)]: Using backend LokyBackend with 4 concurrent workers.\n",
      "\n",
      "STOPPING EARLY DUE TO KEYBOARD INTERRUPT..."
     ]
    },
    {
     "ename": "KeyError",
     "evalue": "None",
     "output_type": "error",
     "traceback": [
      "\u001b[1;31m---------------------------------------------------------------------------\u001b[0m",
      "\u001b[1;31mKeyError\u001b[0m                                  Traceback (most recent call last)",
      "\u001b[1;32m<ipython-input-8-e0cfa9e77b04>\u001b[0m in \u001b[0;36m<module>\u001b[1;34m\u001b[0m\n\u001b[0;32m      1\u001b[0m \u001b[0mosdms\u001b[0m \u001b[1;33m=\u001b[0m \u001b[0mOverheadSensitiveMetricSelection\u001b[0m\u001b[1;33m(\u001b[0m\u001b[0mbest_clf\u001b[0m\u001b[1;33m,\u001b[0m \u001b[0mverbose\u001b[0m\u001b[1;33m=\u001b[0m\u001b[1;36m2\u001b[0m\u001b[1;33m,\u001b[0m \u001b[0mscoring\u001b[0m\u001b[1;33m=\u001b[0m\u001b[1;34m'accuracy'\u001b[0m\u001b[1;33m,\u001b[0m \u001b[0mcv\u001b[0m\u001b[1;33m=\u001b[0m\u001b[0mcv\u001b[0m\u001b[1;33m,\u001b[0m \u001b[0mn_jobs\u001b[0m\u001b[1;33m=\u001b[0m\u001b[1;33m-\u001b[0m\u001b[1;36m1\u001b[0m\u001b[1;33m,\u001b[0m \u001b[0mk_metrics\u001b[0m\u001b[1;33m=\u001b[0m\u001b[1;33m(\u001b[0m\u001b[1;36m1\u001b[0m\u001b[1;33m,\u001b[0m \u001b[0mmaximun\u001b[0m\u001b[1;33m)\u001b[0m\u001b[1;33m)\u001b[0m\u001b[1;33m\u001b[0m\u001b[1;33m\u001b[0m\u001b[0m\n\u001b[1;32m----> 2\u001b[1;33m \u001b[0mosdms\u001b[0m\u001b[1;33m.\u001b[0m\u001b[0mfit\u001b[0m\u001b[1;33m(\u001b[0m\u001b[0mX\u001b[0m\u001b[1;33m.\u001b[0m\u001b[0mvalues\u001b[0m\u001b[1;33m,\u001b[0m \u001b[0my\u001b[0m\u001b[1;33m.\u001b[0m\u001b[0mvalues\u001b[0m\u001b[1;33m,\u001b[0m \u001b[0mcustom_metric_names\u001b[0m\u001b[1;33m=\u001b[0m\u001b[0mmetrics\u001b[0m\u001b[1;33m)\u001b[0m\u001b[1;33m\u001b[0m\u001b[1;33m\u001b[0m\u001b[0m\n\u001b[0m\u001b[0;32m      3\u001b[0m \u001b[1;31m#dump(osdms, models_path + 'OSDMS.joblib')\u001b[0m\u001b[1;33m\u001b[0m\u001b[1;33m\u001b[0m\u001b[1;33m\u001b[0m\u001b[0m\n\u001b[0;32m      4\u001b[0m \u001b[0mprint\u001b[0m\u001b[1;33m(\u001b[0m\u001b[1;34m'best combination (Score: %.3f): %s\\n'\u001b[0m \u001b[1;33m%\u001b[0m \u001b[1;33m(\u001b[0m\u001b[0mosdms\u001b[0m\u001b[1;33m.\u001b[0m\u001b[0mk_score_\u001b[0m\u001b[1;33m,\u001b[0m \u001b[0mosdms\u001b[0m\u001b[1;33m.\u001b[0m\u001b[0mk_metric_idx_\u001b[0m\u001b[1;33m)\u001b[0m\u001b[1;33m)\u001b[0m\u001b[1;33m\u001b[0m\u001b[1;33m\u001b[0m\u001b[0m\n",
      "\u001b[1;32m~\\PycharmProjects\\AQoSD_IoT\\osms.py\u001b[0m in \u001b[0;36mfit\u001b[1;34m(self, X, y, custom_metric_names, groups, **fit_params)\u001b[0m\n\u001b[0;32m    209\u001b[0m                     \u001b[0mbest_subset\u001b[0m \u001b[1;33m=\u001b[0m \u001b[0mk\u001b[0m\u001b[1;33m\u001b[0m\u001b[1;33m\u001b[0m\u001b[0m\n\u001b[0;32m    210\u001b[0m             \u001b[0mk_score\u001b[0m \u001b[1;33m=\u001b[0m \u001b[0mmax_score\u001b[0m\u001b[1;33m\u001b[0m\u001b[1;33m\u001b[0m\u001b[0m\n\u001b[1;32m--> 211\u001b[1;33m             \u001b[0mk_idx\u001b[0m \u001b[1;33m=\u001b[0m \u001b[0mself\u001b[0m\u001b[1;33m.\u001b[0m\u001b[0msubsets_\u001b[0m\u001b[1;33m[\u001b[0m\u001b[0mbest_subset\u001b[0m\u001b[1;33m]\u001b[0m\u001b[1;33m[\u001b[0m\u001b[1;34m'metric_idx'\u001b[0m\u001b[1;33m]\u001b[0m\u001b[1;33m\u001b[0m\u001b[1;33m\u001b[0m\u001b[0m\n\u001b[0m\u001b[0;32m    212\u001b[0m             \u001b[1;32mif\u001b[0m \u001b[0mself\u001b[0m\u001b[1;33m.\u001b[0m\u001b[0mk_metrics\u001b[0m \u001b[1;33m==\u001b[0m \u001b[1;34m'parsimonious'\u001b[0m\u001b[1;33m:\u001b[0m\u001b[1;33m\u001b[0m\u001b[1;33m\u001b[0m\u001b[0m\n\u001b[0;32m    213\u001b[0m                 \u001b[1;32mfor\u001b[0m \u001b[0mk\u001b[0m \u001b[1;32min\u001b[0m \u001b[0mself\u001b[0m\u001b[1;33m.\u001b[0m\u001b[0msubsets_\u001b[0m\u001b[1;33m:\u001b[0m\u001b[1;33m\u001b[0m\u001b[1;33m\u001b[0m\u001b[0m\n",
      "\u001b[1;31mKeyError\u001b[0m: None"
     ]
    }
   ],
   "source": [
    "osdms = OverheadSensitiveMetricSelection(best_clf, verbose=2, scoring='accuracy', cv=cv, n_jobs=-1, k_metrics=(1, maximun))\n",
    "osdms.fit(X.values, y.values, custom_metric_names=metrics)\n",
    "#dump(osdms, models_path + 'OSDMS.joblib')\n",
    "print('best combination (Score: %.3f): %s\\n' % (osdms.k_score_, osdms.k_metric_idx_))"
   ]
  },
  {
   "cell_type": "code",
   "execution_count": null,
   "metadata": {
    "scrolled": false
   },
   "outputs": [],
   "source": [
    "fig, df = plot_osdm(osdms)\n",
    "df.to_csv(models_path + 'feature_selection.csv', index=True)"
   ]
  },
  {
   "cell_type": "code",
   "execution_count": null,
   "metadata": {},
   "outputs": [],
   "source": []
  }
 ],
 "metadata": {
  "@webio": {
   "lastCommId": null,
   "lastKernelId": null
  },
  "kernelspec": {
   "display_name": "Python 3",
   "language": "python",
   "name": "python3"
  },
  "language_info": {
   "codemirror_mode": {
    "name": "ipython",
    "version": 3
   },
   "file_extension": ".py",
   "mimetype": "text/x-python",
   "name": "python",
   "nbconvert_exporter": "python",
   "pygments_lexer": "ipython3",
   "version": "3.8.5"
  }
 },
 "nbformat": 4,
 "nbformat_minor": 4
}
